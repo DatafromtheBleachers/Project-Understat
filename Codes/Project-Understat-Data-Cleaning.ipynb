{
 "cells": [
  {
   "cell_type": "code",
   "execution_count": 3,
   "id": "5c78aa80",
   "metadata": {
    "tags": []
   },
   "outputs": [],
   "source": [
    "#This code allows you to evaluate which players are the most influential for a team during the calendar year \n",
    "#using data from Understat.com we will answer the following questions:\n",
    "# 1) Who are the 5 most influential players for Goal Events? (Goals + Assists)\n",
    "# 2) How is the performance of the 5 most influential players during the season (Month by month and by minutes played)\n",
    "# 3) From the player that scores the most: Where does he prefers to shoot and also where does he score the most goals?\n",
    "# 4) Who is the best \"duo\" (Goals and assisted each other the most)\n",
    "#Importing essential packages at this point\n",
    "\n",
    "import requests\n",
    "from bs4 import BeautifulSoup\n",
    "import json\n",
    "\n",
    "import pandas as pd\n",
    "import numpy as np\n",
    "from datetime import datetime"
   ]
  },
  {
   "cell_type": "code",
   "execution_count": 4,
   "id": "41056fd2",
   "metadata": {
    "tags": []
   },
   "outputs": [
    {
     "name": "stdout",
     "output_type": "stream",
     "text": [
      "Please enter the Team: bayer_leverkusen\n",
      "https://understat.com/team/bayer_leverkusen/2023\n"
     ]
    }
   ],
   "source": [
    "#Webscrapping understat.com. \n",
    "\n",
    "#The section of code for webscrapping was created following McKay Johns youtube videos.\n",
    "\n",
    "#scrape a single game shots. \n",
    "base_url = 'https://understat.com/team/'\n",
    "match = str(input('Please enter the Team: '))\n",
    "url = base_url+match+'/'+str(datetime.now().year-1)\n",
    "print(url) #To make sure thing are going good"
   ]
  },
  {
   "cell_type": "code",
   "execution_count": 5,
   "id": "a8a4415d",
   "metadata": {
    "tags": []
   },
   "outputs": [],
   "source": [
    "#Use requests to get the webpage and BeautifulSoup to parse the page\n",
    "res = requests.get(url)\n",
    "soup = BeautifulSoup(res.content, 'lxml')\n",
    "scripts = soup.find_all('script')"
   ]
  },
  {
   "cell_type": "code",
   "execution_count": 6,
   "id": "51ec1e9f",
   "metadata": {
    "tags": []
   },
   "outputs": [],
   "source": [
    "#get only the shotsData\n",
    "strings = scripts[1].string"
   ]
  },
  {
   "cell_type": "code",
   "execution_count": 7,
   "id": "390709c6",
   "metadata": {
    "tags": []
   },
   "outputs": [],
   "source": [
    "# strip unnecessary symbols and get only JSON data \n",
    "ind_start = strings.index(\"('\")+2 \n",
    "ind_end = strings.index(\"')\") \n",
    "json_data = strings[ind_start:ind_end] \n",
    "json_data = json_data.encode('utf8').decode('unicode_escape')\n",
    "\n",
    "#convert string to json format\n",
    "data = json.loads(json_data)"
   ]
  },
  {
   "cell_type": "code",
   "execution_count": 8,
   "id": "46a1fc20",
   "metadata": {
    "tags": []
   },
   "outputs": [],
   "source": [
    "id1 = []\n",
    "Played = []\n",
    "for index in range(len(data)):\n",
    "    for key in data[index]:\n",
    "        if key == 'id':\n",
    "            id1.append(data[index][key])\n",
    "        if key == 'isResult':\n",
    "            Played.append(data[index][key])"
   ]
  },
  {
   "cell_type": "code",
   "execution_count": 9,
   "id": "e63da214",
   "metadata": {
    "tags": []
   },
   "outputs": [],
   "source": [
    "col_names = ['MatchID','Played']\n",
    "MatchSetting = pd.DataFrame([id1,Played],index=col_names)\n",
    "MatchSetting = MatchSetting.T\n",
    "MatchSetting=MatchSetting[MatchSetting['Played']==True]\n",
    "match_base_url = 'https://understat.com/match/'\n",
    "\n",
    "MatchWeb=match_base_url+MatchSetting['MatchID']\n",
    "MatchSetting['MatchWeb']=MatchWeb\n",
    "\n",
    "\n",
    "#Create a list for each variable we want to take out of understat.com\n",
    "x = []\n",
    "y = []\n",
    "xG = []\n",
    "result = []\n",
    "team = []\n",
    "HA = []\n",
    "id1 = []\n",
    "player = []\n",
    "player_assisted = []\n",
    "shot_type = []\n",
    "situation = []\n",
    "minute = []\n",
    "datetime = []"
   ]
  },
  {
   "cell_type": "code",
   "execution_count": 10,
   "id": "af4d6474",
   "metadata": {
    "tags": []
   },
   "outputs": [
    {
     "name": "stdout",
     "output_type": "stream",
     "text": [
      "  MatchID Played                           MatchWeb\n",
      "0   23066   True  https://understat.com/match/23066\n",
      "1   23080   True  https://understat.com/match/23080\n",
      "2   23084   True  https://understat.com/match/23084\n",
      "3   23092   True  https://understat.com/match/23092\n",
      "4   23108   True  https://understat.com/match/23108\n"
     ]
    }
   ],
   "source": [
    "MatchSetting=MatchSetting.reset_index()\n",
    "MatchSetting=MatchSetting.drop('index', axis=1)\n",
    "print(MatchSetting.head())"
   ]
  },
  {
   "cell_type": "code",
   "execution_count": 11,
   "id": "847a0a6b",
   "metadata": {
    "tags": []
   },
   "outputs": [],
   "source": [
    "#Use requests to get the webpage and BeautifulSoup to parse the page\n",
    "\n",
    "for index in range(len(MatchSetting)):\n",
    "    res = requests.get(MatchSetting['MatchWeb'][index])\n",
    "    soup = BeautifulSoup(res.content, 'lxml')\n",
    "    scripts = soup.find_all('script')\n",
    "    #get only the shotsData\n",
    "    strings = scripts[1].string\n",
    "    # strip unnecessary symbols and get only JSON data \n",
    "    ind_start = strings.index(\"('\")+2 \n",
    "    ind_end = strings.index(\"')\") \n",
    "    json_data = strings[ind_start:ind_end] \n",
    "    json_data = json_data.encode('utf8').decode('unicode_escape')\n",
    "\n",
    "    #convert string to json format\n",
    "    data = json.loads(json_data)\n",
    "    data_away = data['a']\n",
    "    data_home = data['h']\n",
    "\n",
    "    for index in range(len(data_home)):\n",
    "        for key in data_home[index]:\n",
    "            if key == 'date':\n",
    "                datetime.append(data_home[index][key])\n",
    "            if key == 'minute':\n",
    "                minute.append(data_home[index][key])\n",
    "            if key == 'match_id':\n",
    "                id1.append(data_home[index][key])\n",
    "            if key == 'X':\n",
    "                x.append(data_home[index][key])\n",
    "            if key == 'Y':\n",
    "                y.append(data_home[index][key])\n",
    "            if key == 'h_team':\n",
    "                team.append(data_home[index][key])\n",
    "            if key == 'xG':\n",
    "                xG.append(data_home[index][key])\n",
    "            if key == 'result':\n",
    "                result.append(data_home[index][key])\n",
    "            if key == 'player':\n",
    "                player.append(data_home[index][key])\n",
    "            if key == 'player_assisted':\n",
    "                player_assisted.append(data_home[index][key])\n",
    "            if key == 'h_a':\n",
    "                HA.append(data_home[index][key])\n",
    "            if key == 'shotType':\n",
    "                shot_type.append(data_home[index][key])            \n",
    "                    \n",
    "    for index in range(len(data_away)):\n",
    "        for key in data_away[index]:\n",
    "            if key == 'date':\n",
    "                datetime.append(data_away[index][key])\n",
    "            if key == 'minute':\n",
    "                minute.append(data_away[index][key])\n",
    "            if key == 'match_id':\n",
    "                id1.append(data_away[index][key])\n",
    "            if key == 'X':\n",
    "                x.append(data_away[index][key])\n",
    "            if key == 'Y':\n",
    "                y.append(data_away[index][key])\n",
    "            if key == 'a_team':\n",
    "                team.append(data_away[index][key])\n",
    "            if key == 'xG':\n",
    "                xG.append(data_away[index][key])\n",
    "            if key == 'result':\n",
    "                result.append(data_away[index][key])\n",
    "            if key == 'player':\n",
    "                player.append(data_away[index][key])\n",
    "            if key == 'player_assisted':\n",
    "                player_assisted.append(data_away[index][key])\n",
    "            if key == 'h_a':\n",
    "                HA.append(data_away[index][key])\n",
    "            if key == 'shotType':\n",
    "                shot_type.append(data_away[index][key])\n",
    "                 "
   ]
  },
  {
   "cell_type": "code",
   "execution_count": 12,
   "id": "b4b36784",
   "metadata": {},
   "outputs": [],
   "source": [
    "col_names = ['date','minute','MatchID','x','y','xG','result','team','Home_Away','player','player_assisted','Shot type']\n",
    "df = pd.DataFrame([datetime,minute,id1,x,y,xG,result,team,HA,player,player_assisted,shot_type],index=col_names)\n",
    "df = df.T"
   ]
  },
  {
   "cell_type": "code",
   "execution_count": 13,
   "id": "fa41daf2",
   "metadata": {},
   "outputs": [
    {
     "data": {
      "text/html": [
       "<div>\n",
       "<style scoped>\n",
       "    .dataframe tbody tr th:only-of-type {\n",
       "        vertical-align: middle;\n",
       "    }\n",
       "\n",
       "    .dataframe tbody tr th {\n",
       "        vertical-align: top;\n",
       "    }\n",
       "\n",
       "    .dataframe thead th {\n",
       "        text-align: right;\n",
       "    }\n",
       "</style>\n",
       "<table border=\"1\" class=\"dataframe\">\n",
       "  <thead>\n",
       "    <tr style=\"text-align: right;\">\n",
       "      <th></th>\n",
       "      <th>date</th>\n",
       "      <th>minute</th>\n",
       "      <th>MatchID</th>\n",
       "      <th>x</th>\n",
       "      <th>y</th>\n",
       "      <th>xG</th>\n",
       "      <th>result</th>\n",
       "      <th>team</th>\n",
       "      <th>Home_Away</th>\n",
       "      <th>player</th>\n",
       "      <th>player_assisted</th>\n",
       "      <th>Shot type</th>\n",
       "    </tr>\n",
       "  </thead>\n",
       "  <tbody>\n",
       "    <tr>\n",
       "      <th>0</th>\n",
       "      <td>2023-08-19 13:30:00</td>\n",
       "      <td>1</td>\n",
       "      <td>23066</td>\n",
       "      <td>0.723</td>\n",
       "      <td>0.570</td>\n",
       "      <td>0.015755</td>\n",
       "      <td>SavedShot</td>\n",
       "      <td>Bayer Leverkusen</td>\n",
       "      <td>h</td>\n",
       "      <td>Granit Xhaka</td>\n",
       "      <td>NaN</td>\n",
       "      <td>LeftFoot</td>\n",
       "    </tr>\n",
       "    <tr>\n",
       "      <th>1</th>\n",
       "      <td>2023-08-19 13:30:00</td>\n",
       "      <td>7</td>\n",
       "      <td>23066</td>\n",
       "      <td>0.762</td>\n",
       "      <td>0.445</td>\n",
       "      <td>0.022466</td>\n",
       "      <td>MissedShots</td>\n",
       "      <td>Bayer Leverkusen</td>\n",
       "      <td>h</td>\n",
       "      <td>Jonas Hofmann</td>\n",
       "      <td>NaN</td>\n",
       "      <td>LeftFoot</td>\n",
       "    </tr>\n",
       "    <tr>\n",
       "      <th>2</th>\n",
       "      <td>2023-08-19 13:30:00</td>\n",
       "      <td>23</td>\n",
       "      <td>23066</td>\n",
       "      <td>0.939</td>\n",
       "      <td>0.451</td>\n",
       "      <td>0.564749</td>\n",
       "      <td>Goal</td>\n",
       "      <td>Bayer Leverkusen</td>\n",
       "      <td>h</td>\n",
       "      <td>Jeremie Frimpong</td>\n",
       "      <td>Victor Boniface</td>\n",
       "      <td>RightFoot</td>\n",
       "    </tr>\n",
       "    <tr>\n",
       "      <th>3</th>\n",
       "      <td>2023-08-19 13:30:00</td>\n",
       "      <td>33</td>\n",
       "      <td>23066</td>\n",
       "      <td>0.860</td>\n",
       "      <td>0.594</td>\n",
       "      <td>0.086157</td>\n",
       "      <td>BlockedShot</td>\n",
       "      <td>Bayer Leverkusen</td>\n",
       "      <td>h</td>\n",
       "      <td>Álex Grimaldo</td>\n",
       "      <td>NaN</td>\n",
       "      <td>RightFoot</td>\n",
       "    </tr>\n",
       "    <tr>\n",
       "      <th>4</th>\n",
       "      <td>2023-08-19 13:30:00</td>\n",
       "      <td>34</td>\n",
       "      <td>23066</td>\n",
       "      <td>0.925</td>\n",
       "      <td>0.476</td>\n",
       "      <td>0.339712</td>\n",
       "      <td>Goal</td>\n",
       "      <td>Bayer Leverkusen</td>\n",
       "      <td>h</td>\n",
       "      <td>Jonathan Tah</td>\n",
       "      <td>Jonas Hofmann</td>\n",
       "      <td>Head</td>\n",
       "    </tr>\n",
       "  </tbody>\n",
       "</table>\n",
       "</div>"
      ],
      "text/plain": [
       "                  date  minute  MatchID      x      y        xG       result  \\\n",
       "0  2023-08-19 13:30:00       1    23066  0.723  0.570  0.015755    SavedShot   \n",
       "1  2023-08-19 13:30:00       7    23066  0.762  0.445  0.022466  MissedShots   \n",
       "2  2023-08-19 13:30:00      23    23066  0.939  0.451  0.564749         Goal   \n",
       "3  2023-08-19 13:30:00      33    23066  0.860  0.594  0.086157  BlockedShot   \n",
       "4  2023-08-19 13:30:00      34    23066  0.925  0.476  0.339712         Goal   \n",
       "\n",
       "               team Home_Away            player  player_assisted  Shot type  \n",
       "0  Bayer Leverkusen         h      Granit Xhaka              NaN   LeftFoot  \n",
       "1  Bayer Leverkusen         h     Jonas Hofmann              NaN   LeftFoot  \n",
       "2  Bayer Leverkusen         h  Jeremie Frimpong  Victor Boniface  RightFoot  \n",
       "3  Bayer Leverkusen         h     Álex Grimaldo              NaN  RightFoot  \n",
       "4  Bayer Leverkusen         h      Jonathan Tah    Jonas Hofmann       Head  "
      ]
     },
     "execution_count": 13,
     "metadata": {},
     "output_type": "execute_result"
    }
   ],
   "source": [
    "#Saving Dataframe so I don't have to webscape the data in the future\n",
    "df.to_csv('C:/Users/verde/Desktop/data/'+match+'.csv', index=False) \n",
    "\n",
    "#Re-opening it\n",
    "df = pd.read_csv('C:/Users/verde/Desktop/data/'+match+'.csv')\n",
    "df.head()"
   ]
  },
  {
   "cell_type": "code",
   "execution_count": 14,
   "id": "f5ed0bab",
   "metadata": {},
   "outputs": [
    {
     "data": {
      "text/plain": [
       "date   minute  MatchID  x      y      xG     result  team   Home_Away  player  player_assisted  Shot type\n",
       "False  False   False    False  False  False  False   False  False      False   False            False        705\n",
       "                                                                               True             False        208\n",
       "Name: count, dtype: int64"
      ]
     },
     "execution_count": 14,
     "metadata": {},
     "output_type": "execute_result"
    }
   ],
   "source": [
    "df.isna().value_counts()"
   ]
  },
  {
   "cell_type": "code",
   "execution_count": 15,
   "id": "1ffa11d6",
   "metadata": {},
   "outputs": [
    {
     "data": {
      "text/plain": [
       "date   minute  MatchID  x      y      xG     result  team   Home_Away  player  player_assisted  Shot type\n",
       "False  False   False    False  False  False  False   False  False      False   False            False        913\n",
       "Name: count, dtype: int64"
      ]
     },
     "execution_count": 15,
     "metadata": {},
     "output_type": "execute_result"
    }
   ],
   "source": [
    "df['player_assisted'] = df['player_assisted'].fillna('None') #We will assume None for the NaN values on the assist\n",
    "\n",
    "df.isna().value_counts()"
   ]
  },
  {
   "cell_type": "code",
   "execution_count": 16,
   "id": "1cf8e3a6",
   "metadata": {},
   "outputs": [
    {
     "data": {
      "text/plain": [
       "date                object\n",
       "minute               int64\n",
       "MatchID              int64\n",
       "x                  float64\n",
       "y                  float64\n",
       "xG                 float64\n",
       "result              object\n",
       "team                object\n",
       "Home_Away           object\n",
       "player              object\n",
       "player_assisted     object\n",
       "Shot type           object\n",
       "dtype: object"
      ]
     },
     "execution_count": 16,
     "metadata": {},
     "output_type": "execute_result"
    }
   ],
   "source": [
    "df.dtypes #Checking types."
   ]
  },
  {
   "cell_type": "code",
   "execution_count": 17,
   "id": "5287fa2a",
   "metadata": {},
   "outputs": [],
   "source": [
    "#Resetting types to make sure I can work with them later\n",
    "df['xG'] = df['xG'].astype(float)\n",
    "df['x'] =  df['x'].astype(float)\n",
    "df['y'] =  df['y'].astype(float)\n",
    "\n",
    "#Cleaning Data\n",
    "df['Shot type'] = df['Shot type'].str.replace('LeftFoot', 'Left Foot')\n",
    "df['Shot type'] = df['Shot type'].str.replace('RightFoot', 'Right Foot')\n",
    "df['Shot type'] = df['Shot type'].str.replace('Head', 'Header')\n",
    "df['Shot type'] = df['Shot type'].str.replace('OtherBodyPart', 'Other')\n",
    "\n",
    "#Adding some values of interest\n",
    "df['date'] = pd.to_datetime(df['date']).dt.date\n",
    "df['Month'] = pd.to_datetime(df['date']).dt.month"
   ]
  },
  {
   "cell_type": "code",
   "execution_count": 18,
   "id": "aaadf68a",
   "metadata": {},
   "outputs": [
    {
     "data": {
      "text/plain": [
       "date                object\n",
       "minute               int64\n",
       "MatchID              int64\n",
       "x                  float64\n",
       "y                  float64\n",
       "xG                 float64\n",
       "result              object\n",
       "team                object\n",
       "Home_Away           object\n",
       "player              object\n",
       "player_assisted     object\n",
       "Shot type           object\n",
       "Month                int32\n",
       "dtype: object"
      ]
     },
     "execution_count": 18,
     "metadata": {},
     "output_type": "execute_result"
    }
   ],
   "source": [
    "df.dtypes"
   ]
  },
  {
   "cell_type": "code",
   "execution_count": 19,
   "id": "9b8f4aea",
   "metadata": {},
   "outputs": [],
   "source": [
    "#Adding Goals and Assist\n",
    "def set_goal_and_assist(row):\n",
    "    if (row['result']=='Goal'):\n",
    "        row['Goal'] = 1\n",
    "        \n",
    "        if (row['player_assisted']!='None'):\n",
    "            row['Assist'] = 1\n",
    "        else:\n",
    "            row['Assist'] = 0\n",
    "    \n",
    "    else:\n",
    "        row['Goal'] = 0\n",
    "        row['Assist'] = 0\n",
    "\n",
    "    return row"
   ]
  },
  {
   "cell_type": "code",
   "execution_count": 20,
   "id": "303d6d1f",
   "metadata": {},
   "outputs": [],
   "source": [
    "#I have to adjust the x and y to correctly fit the pitch in Python. \n",
    "#Very important: You will see this reflected later...Since we are plotting a VERTICAL field. X and Y will swap with each other\n",
    "#Feel free to change the name of the column, I personally did not do it.\n",
    "\n",
    "for index, row in df.iterrows():\n",
    "    if df.loc[index,'Home_Away']=='h':\n",
    "        df.loc[index,'x']=row['x']*120+1\n",
    "        df.loc[index,'y'] = row['y']*70+5\n",
    "        df.loc[index,'xG'] = row['xG']\n",
    "\n",
    "    elif df.loc[index,'Home_Away']=='a':\n",
    "        df.loc[index,'x']=row['x']*121\n",
    "        df.loc[index,'y'] = row['y']*78\n",
    "        df.loc[index,'xG'] = row['xG']\n",
    "\n",
    "#This helps to ensure that I can get the info from the team I originally introduced at the URL portion\n",
    "Team=match.replace(\"_\", \" \").title()\n",
    "dfStudy = df[df['team']==Team]  #Study Team\n",
    "dfOp = df[df['team']!=Team]  #Opposite teams\n",
    "\n",
    "dfStudy = dfStudy.apply(set_goal_and_assist, axis=1)"
   ]
  },
  {
   "cell_type": "code",
   "execution_count": null,
   "id": "62247cae",
   "metadata": {},
   "outputs": [],
   "source": []
  }
 ],
 "metadata": {
  "kernelspec": {
   "display_name": "Python 3 (ipykernel)",
   "language": "python",
   "name": "python3"
  },
  "language_info": {
   "codemirror_mode": {
    "name": "ipython",
    "version": 3
   },
   "file_extension": ".py",
   "mimetype": "text/x-python",
   "name": "python",
   "nbconvert_exporter": "python",
   "pygments_lexer": "ipython3",
   "version": "3.11.5"
  }
 },
 "nbformat": 4,
 "nbformat_minor": 5
}
